{
 "cells": [
  {
   "cell_type": "code",
   "execution_count": null,
   "metadata": {},
   "outputs": [],
   "source": [
    "# Imports\n",
    "import numpy as np\n",
    "import matplotlib.pyplot as plt\n",
    "from sklearn.model_selection import GridSearchCV\n",
    "from sklearn.svm import SVC\n",
    "from preprocess import load_images_from_folder, normalize_images\n",
    "from utils import encode_labels"
   ]
  },
  {
   "cell_type": "code",
   "execution_count": null,
   "metadata": {},
   "outputs": [],
   "source": [
    "# Load and preprocess data\n",
    "images, labels = load_images_from_folder(\"../data/circuit_symbols\")\n",
    "images = normalize_images(images)\n",
    "X = images.reshape(len(images), -1)\n",
    "y, encoder = encode_labels(labels)"
   ]
  },
  {
   "cell_type": "code",
   "execution_count": null,
   "metadata": {},
   "outputs": [],
   "source": [
    "# Grid Search for SVM\n",
    "param_grid = {\n",
    "    'C': [1, 10, 100],\n",
    "    'gamma': [0.001, 0.01, 0.1],\n",
    "    'kernel': ['rbf']\n",
    "}\n",
    "\n",
    "gs = GridSearchCV(SVC(), param_grid, cv=3, verbose=2)\n",
    "gs.fit(X, y)\n",
    "print(\"Best Params:\", gs.best_params_)"
   ]
  },
  {
   "cell_type": "code",
   "execution_count": null,
   "metadata": {},
   "outputs": [],
   "source": [
    "# Accuracy and confusion matrix\n",
    "from sklearn.metrics import accuracy_score, confusion_matrix\n",
    "preds = gs.predict(X)\n",
    "print(\"Accuracy:\", accuracy_score(y, preds))"
   ]
  }
 ],
 "metadata": {
  "kernelspec": {
   "display_name": "Python 3",
   "language": "python",
   "name": "python3"
  },
  "language_info": {
   "name": "python",
   "version": "3.13.2"
  }
 },
 "nbformat": 4,
 "nbformat_minor": 2
}
