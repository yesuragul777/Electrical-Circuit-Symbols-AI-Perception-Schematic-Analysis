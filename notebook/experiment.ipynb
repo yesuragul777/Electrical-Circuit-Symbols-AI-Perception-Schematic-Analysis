# Cell 1: Imports
import numpy as np
import matplotlib.pyplot as plt
from sklearn.model_selection import GridSearchCV
from sklearn.svm import SVC
from preprocess import load_images_from_folder, normalize_images
from utils import encode_labels

# Cell 2: Load and preprocess data
images, labels = load_images_from_folder("../data/circuit_symbols")
images = normalize_images(images)
X = images.reshape(len(images), -1)
y, encoder = encode_labels(labels)

# Cell 3: Grid Search for SVM
param_grid = {
    'C': [1, 10, 100],
    'gamma': [0.001, 0.01, 0.1],
    'kernel': ['rbf']
}

gs = GridSearchCV(SVC(), param_grid, cv=3, verbose=2)
gs.fit(X, y)
print("Best Params:", gs.best_params_)

# Cell 4: Accuracy and confusion matrix
from sklearn.metrics import accuracy_score, confusion_matrix
preds = gs.predict(X)
print("Accuracy:", accuracy_score(y, preds))
